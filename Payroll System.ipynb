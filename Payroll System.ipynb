{
 "cells": [
  {
   "cell_type": "code",
   "execution_count": 1,
   "metadata": {},
   "outputs": [],
   "source": [
    "import numpy as np\n",
    "import pandas as pd\n",
    "import datetime\n",
    "from datetime import date\n",
    "import sqlalchemy\n",
    "from sqlalchemy import create_engine"
   ]
  },
  {
   "cell_type": "code",
   "execution_count": 2,
   "metadata": {},
   "outputs": [],
   "source": [
    "hostname=\"localhost\"\n",
    "dbname=\"payroll_system\"\n",
    "uname=\"root\"\n",
    "pwd=\"\""
   ]
  },
  {
   "cell_type": "code",
   "execution_count": 28,
   "metadata": {},
   "outputs": [],
   "source": [
    "engine = create_engine(\"mysql+pymysql://{user}:{pw}@{host}/{db}\".format(host=hostname, db=dbname, user=uname, pw=pwd))\n",
    "connection = engine.connect()"
   ]
  },
  {
   "cell_type": "code",
   "execution_count": 29,
   "metadata": {},
   "outputs": [],
   "source": [
    "def create_payroll(no_of_people):\n",
    "#     no_of_people = int(input(\"Enter the amount of people: \"))\n",
    "    payroll_list = []\n",
    "    \n",
    "    for i in range(0, no_of_people):\n",
    "        payroll_dict = {}\n",
    "        payroll_dict[\"Name\"] = input(\"Enter name: \")\n",
    "        payroll_dict[\"Daily-Rate\"] = int(input(\"Enter person's daily rate: \"))\n",
    "        payroll_list.append(payroll_dict)\n",
    "        start_date_entry = input('Enter start date in MM/DD/YYYY: ')\n",
    "        payroll_dict['start_date'] = start_date_entry\n",
    "        payday_entry = input('Enter payday date in MM/DD/YYYY: ')\n",
    "        payroll_dict['payday_date'] = payday_entry\n",
    "    print(\"Employee(s) added!\")\n",
    "    \n",
    "    df = pd.DataFrame.from_dict(payroll_list)\n",
    "    df['start_date'] = pd.to_datetime(df['start_date'])\n",
    "    df['payday_date'] = pd.to_datetime(df['payday_date'])\n",
    "    df['no_of_days'] = (df['payday_date'] - df['start_date']).astype(str)\n",
    "    amount = df['no_of_days'] * df['Daily-Rate']\n",
    "    df['amount_to_pay'] = (amount / np.timedelta64(1, 'D')).astype(int)\n",
    "\n",
    "    df.to_sql('employees', engine, index=False)"
   ]
  },
  {
   "cell_type": "code",
   "execution_count": 30,
   "metadata": {},
   "outputs": [],
   "source": [
    "def add_employee(no_of_people):\n",
    "    employee_list = []\n",
    "    \n",
    "    for i in range(0, no_of_people):\n",
    "        employee_dict = {}\n",
    "        employee_dict[\"Name\"] = input(\"Enter name: \")\n",
    "        employee_dict[\"Daily-Rate\"] = int(input(\"Enter person's daily rate: \"))\n",
    "        employee_list.append(employee_dict)\n",
    "        start_date_entry = input('Enter start date in MM/DD/YYYY: ')\n",
    "        employee_dict['start_date'] = start_date_entry\n",
    "        payday_entry = input('Enter payday date in MM/DD/YYYY: ')\n",
    "        employee_dict['payday_date'] = payday_entry\n",
    "    print(\"Employee(s) added!\")\n",
    "    \n",
    "    df2 = pd.DataFrame.from_dict(employee_list)\n",
    "    df2['start_date'] = pd.to_datetime(df2['start_date'])\n",
    "    df2['payday_date'] = pd.to_datetime(df2['payday_date'])\n",
    "    df2['no_of_days'] = (df2['payday_date'] - df2['start_date']).astype(str)\n",
    "    amount = df2['no_of_days'] * df2['Daily-Rate']\n",
    "    df2['amount_to_pay'] = (amount / np.timedelta64(1, 'D')).astype(int)\n",
    "\n",
    "    df2.to_sql('employees', engine, index=False, if_exists='append')"
   ]
  },
  {
   "cell_type": "code",
   "execution_count": 26,
   "metadata": {},
   "outputs": [],
   "source": [
    "def drop_table():\n",
    "    engine = create_engine(\"mysql://{user}:{pw}@{host}/{db}\".format(host=hostname, db=dbname, user=uname, pw=pwd))\n",
    "    \n",
    "    engine.execute(\"DROP employees\")"
   ]
  },
  {
   "cell_type": "code",
   "execution_count": 32,
   "metadata": {},
   "outputs": [
    {
     "name": "stdout",
     "output_type": "stream",
     "text": [
      "Enter name: Apa\n",
      "Enter person's daily rate: 15\n",
      "Enter start date in MM/DD/YYYY: 5/1/2021\n",
      "Enter payday date in MM/DD/YYYY: 5/5/2021\n",
      "Employee(s) added!\n"
     ]
    }
   ],
   "source": [
    "create_payroll(1)"
   ]
  },
  {
   "cell_type": "code",
   "execution_count": 33,
   "metadata": {},
   "outputs": [
    {
     "name": "stdout",
     "output_type": "stream",
     "text": [
      "Enter name: CJ\n",
      "Enter person's daily rate: 44\n",
      "Enter start date in MM/DD/YYYY: 5/5/2021\n",
      "Enter payday date in MM/DD/YYYY: 5/10/2021\n",
      "Employee(s) added!\n"
     ]
    }
   ],
   "source": [
    "add_employee(1)"
   ]
  },
  {
   "cell_type": "code",
   "execution_count": null,
   "metadata": {},
   "outputs": [],
   "source": []
  }
 ],
 "metadata": {
  "kernelspec": {
   "display_name": "Python 3",
   "language": "python",
   "name": "python3"
  },
  "language_info": {
   "codemirror_mode": {
    "name": "ipython",
    "version": 3
   },
   "file_extension": ".py",
   "mimetype": "text/x-python",
   "name": "python",
   "nbconvert_exporter": "python",
   "pygments_lexer": "ipython3",
   "version": "3.8.5"
  }
 },
 "nbformat": 4,
 "nbformat_minor": 4
}
